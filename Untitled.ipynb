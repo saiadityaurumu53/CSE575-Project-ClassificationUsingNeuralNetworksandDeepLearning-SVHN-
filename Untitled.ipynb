{
  "nbformat": 4,
  "nbformat_minor": 0,
  "metadata": {
    "colab": {
      "name": "Untitled",
      "provenance": []
    },
    "kernelspec": {
      "name": "python3",
      "display_name": "Python 3"
    },
    "language_info": {
      "name": "python"
    }
  },
  "cells": [
    {
      "cell_type": "code",
      "execution_count": 1,
      "metadata": {
        "colab": {
          "base_uri": "https://localhost:8080/"
        },
        "id": "Elvj6pdsmbGp",
        "outputId": "bc52b861-8fe3-485c-b3bb-b0aece5e05f5"
      },
      "outputs": [
        {
          "output_type": "stream",
          "name": "stdout",
          "text": [
            "Mounted at /content/drive\n"
          ]
        }
      ],
      "source": [
        "from google.colab import drive\n",
        "drive.mount('/content/drive')"
      ]
    },
    {
      "cell_type": "code",
      "source": [
        "import numpy as np\n",
        "import matplotlib.pyplot as plt\n",
        "from scipy.io import loadmat\n",
        "from skimage import io\n"
      ],
      "metadata": {
        "id": "VpS93nn8muCX"
      },
      "execution_count": 2,
      "outputs": []
    },
    {
      "cell_type": "markdown",
      "source": [
        "Step (1) : Reading the data. \n"
      ],
      "metadata": {
        "id": "LiFLE8MiEPEe"
      }
    },
    {
      "cell_type": "code",
      "source": [
        "def loadMatData(path):\n",
        "  datavar = loadmat(path)\n",
        "  return datavar['X'], datavar['y']\n",
        "\n",
        "train_X, train_y = loadMatData('/content/drive/MyDrive/Colab Notebooks/Assignment 5 SML/train_32x32.mat')\n",
        "\n",
        "test_X , test_y = loadMatData('/content/drive/MyDrive/Colab Notebooks/Assignment 5 SML/test_32x32.mat')\n",
        "\n",
        "\n",
        "print(\"Shape of the training data\", train_X.shape , train_y.shape )\n",
        "print(\"Shape of the testting data\", test_X.shape, test_y.shape)"
      ],
      "metadata": {
        "colab": {
          "base_uri": "https://localhost:8080/"
        },
        "id": "IFilhPJdm540",
        "outputId": "8f2f46a7-60d3-4bc5-98f6-ccc789e79f6d"
      },
      "execution_count": 3,
      "outputs": [
        {
          "output_type": "stream",
          "name": "stdout",
          "text": [
            "Shape of the training data (73257, 32, 32, 3) (73257, 1)\n",
            "Shape of the testting data (26032, 32, 32, 3) (26032, 1)\n"
          ]
        }
      ]
    },
    {
      "cell_type": "markdown",
      "source": [
        "Step (2) : Normalizing those just images i.e., only X values. Where as y is labels.\n",
        "\n",
        "Min Max Normalization"
      ],
      "metadata": {
        "id": "IdOGv7gREWEX"
      }
    },
    {
      "cell_type": "code",
      "source": [
        "train_X = train_X/255.0\n",
        "test_X = test_X/255.0\n"
      ],
      "metadata": {
        "id": "T_SRAgehn6MR"
      },
      "execution_count": 4,
      "outputs": []
    },
    {
      "cell_type": "markdown",
      "source": [
        "Applying one-hot vector encoding for the labels i.e., y"
      ],
      "metadata": {
        "id": "x782YiNjEh8O"
      }
    },
    {
      "cell_type": "code",
      "source": [
        "from sklearn.preprocessing import OneHotEncoder\n",
        "\n",
        "\n",
        "encoder_Object = OneHotEncoder().fit(train_y.reshape(-1, 1))\n",
        "#made an encoder object\n",
        "\n",
        "#now we can transform all the label values \n",
        "train_y = encoder_Object.transform(train_y.reshape(-1, 1)).toarray()\n",
        "test_y = encoder_Object.transform(test_y.reshape(-1, 1)).toarray()"
      ],
      "metadata": {
        "id": "-Kwgscu2n_Er"
      },
      "execution_count": 5,
      "outputs": []
    },
    {
      "cell_type": "markdown",
      "source": [
        ""
      ],
      "metadata": {
        "id": "Gy1d7lgSEnqk"
      }
    },
    {
      "cell_type": "code",
      "source": [
        "print(\"Training set y labels\", train_y.shape)\n",
        "print(\"Testing set y labels \", test_y.shape)"
      ],
      "metadata": {
        "colab": {
          "base_uri": "https://localhost:8080/"
        },
        "id": "LwPWOztDoDF8",
        "outputId": "b700d302-9b2f-419b-de1c-62b5fa7d6495"
      },
      "execution_count": 6,
      "outputs": [
        {
          "output_type": "stream",
          "name": "stdout",
          "text": [
            "Training set y labels (73257, 10)\n",
            "Testing set y labels  (26032, 10)\n"
          ]
        }
      ]
    },
    {
      "cell_type": "code",
      "source": [
        "import tensorflow as tf\n",
        "\n",
        "from tensorflow.keras import datasets, layers, models\n",
        "import matplotlib.pyplot as plt"
      ],
      "metadata": {
        "id": "SF1pI1m-oG5y"
      },
      "execution_count": 7,
      "outputs": []
    },
    {
      "cell_type": "markdown",
      "source": [
        "Step (3) : Building the model as per the Given Architecture\n"
      ],
      "metadata": {
        "id": "rqzjb0qsErYd"
      }
    },
    {
      "cell_type": "code",
      "source": [
        "modelObject = models.Sequential()\n",
        "\n",
        "modelObject.add(layers.Conv2D(64, (5, 5), activation='relu', input_shape=(32, 32, 3), padding = \"same\"))\n",
        "modelObject.add(layers.MaxPooling2D((2, 2), strides=(2,2)))\n",
        "modelObject.add(layers.Conv2D(64, (5, 5), activation='relu', padding=\"same\"))\n",
        "modelObject.add(layers.MaxPooling2D((2, 2), strides=(2,2)))\n",
        "modelObject.add(layers.Conv2D(128, (5, 5), activation='relu', padding=\"same\"))\n",
        "\n",
        "modelObject.add(layers.Flatten())\n",
        "modelObject.add(layers.Dense(3072, activation='relu'))\n",
        "modelObject.add(layers.Dense(2048, activation='relu'))\n",
        "modelObject.add(layers.Dense(10, activation='softmax'))"
      ],
      "metadata": {
        "id": "sLbNT-42oKX_"
      },
      "execution_count": 8,
      "outputs": []
    },
    {
      "cell_type": "markdown",
      "source": [
        "This is the summary of the CNN model constructed."
      ],
      "metadata": {
        "id": "lbhhuvPQEvos"
      }
    },
    {
      "cell_type": "code",
      "source": [
        "modelObject.summary()"
      ],
      "metadata": {
        "colab": {
          "base_uri": "https://localhost:8080/"
        },
        "id": "AB9QG-RqoOAw",
        "outputId": "b0edeba9-f662-4aa2-dd05-ef4520f9f462"
      },
      "execution_count": 9,
      "outputs": [
        {
          "output_type": "stream",
          "name": "stdout",
          "text": [
            "Model: \"sequential\"\n",
            "_________________________________________________________________\n",
            " Layer (type)                Output Shape              Param #   \n",
            "=================================================================\n",
            " conv2d (Conv2D)             (None, 32, 32, 64)        4864      \n",
            "                                                                 \n",
            " max_pooling2d (MaxPooling2D  (None, 16, 16, 64)       0         \n",
            " )                                                               \n",
            "                                                                 \n",
            " conv2d_1 (Conv2D)           (None, 16, 16, 64)        102464    \n",
            "                                                                 \n",
            " max_pooling2d_1 (MaxPooling  (None, 8, 8, 64)         0         \n",
            " 2D)                                                             \n",
            "                                                                 \n",
            " conv2d_2 (Conv2D)           (None, 8, 8, 128)         204928    \n",
            "                                                                 \n",
            " flatten (Flatten)           (None, 8192)              0         \n",
            "                                                                 \n",
            " dense (Dense)               (None, 3072)              25168896  \n",
            "                                                                 \n",
            " dense_1 (Dense)             (None, 2048)              6293504   \n",
            "                                                                 \n",
            " dense_2 (Dense)             (None, 10)                20490     \n",
            "                                                                 \n",
            "=================================================================\n",
            "Total params: 31,795,146\n",
            "Trainable params: 31,795,146\n",
            "Non-trainable params: 0\n",
            "_________________________________________________________________\n"
          ]
        }
      ]
    },
    {
      "cell_type": "code",
      "source": [
        "from tensorflow import keras\n",
        "from tensorflow.keras import layers"
      ],
      "metadata": {
        "id": "ecrVVTQuoSee"
      },
      "execution_count": 10,
      "outputs": []
    },
    {
      "cell_type": "code",
      "source": [
        "sgdOptimizerObject = tf.keras.optimizers.SGD(learning_rate=0.01, momentum=0.0, nesterov=False, name=\"SGD\")\n",
        "modelObject.compile(loss='categorical_crossentropy', optimizer=sgdOptimizerObject, metrics= [\"accuracy\"])"
      ],
      "metadata": {
        "id": "IfR2cnohoT46"
      },
      "execution_count": 11,
      "outputs": []
    },
    {
      "cell_type": "markdown",
      "source": [
        "Step (4) : Training the model using SGD optimizer."
      ],
      "metadata": {
        "id": "yj4w3nk0E4fr"
      }
    },
    {
      "cell_type": "code",
      "source": [
        "allHistoryData = modelObject.fit(train_X, train_y, epochs=6, validation_data=(test_X, test_y))"
      ],
      "metadata": {
        "colab": {
          "base_uri": "https://localhost:8080/"
        },
        "id": "lGdEYKyfoZmm",
        "outputId": "20490e55-002c-4a6a-ad44-a9933e52cdbd"
      },
      "execution_count": 12,
      "outputs": [
        {
          "output_type": "stream",
          "name": "stdout",
          "text": [
            "Epoch 1/6\n",
            "2290/2290 [==============================] - 1111s 485ms/step - loss: 1.8482 - accuracy: 0.3561 - val_loss: 0.9645 - val_accuracy: 0.7045\n",
            "Epoch 2/6\n",
            "2290/2290 [==============================] - 1109s 484ms/step - loss: 0.6129 - accuracy: 0.8177 - val_loss: 0.5408 - val_accuracy: 0.8490\n",
            "Epoch 3/6\n",
            "2290/2290 [==============================] - 1122s 490ms/step - loss: 0.4360 - accuracy: 0.8717 - val_loss: 0.5374 - val_accuracy: 0.8405\n",
            "Epoch 4/6\n",
            "2290/2290 [==============================] - 1108s 484ms/step - loss: 0.3563 - accuracy: 0.8957 - val_loss: 0.3944 - val_accuracy: 0.8868\n",
            "Epoch 5/6\n",
            "2290/2290 [==============================] - 1108s 484ms/step - loss: 0.2991 - accuracy: 0.9132 - val_loss: 0.4301 - val_accuracy: 0.8790\n",
            "Epoch 6/6\n",
            "2290/2290 [==============================] - 1119s 489ms/step - loss: 0.2562 - accuracy: 0.9255 - val_loss: 0.4064 - val_accuracy: 0.8810\n"
          ]
        }
      ]
    },
    {
      "cell_type": "markdown",
      "source": [
        "For plotting test data accuracy and training data accuracy."
      ],
      "metadata": {
        "id": "CsdUhFk7DXoF"
      }
    },
    {
      "cell_type": "code",
      "source": [
        "import matplotlib.pyplot as plt\n",
        "\n",
        "\n",
        "\n",
        "plt.plot(allHistoryData.history['accuracy'], label='accuracy', marker = '*')\n",
        "plt.plot(allHistoryData.history['val_accuracy'], label = 'val_accuracy', marker = 'o')\n",
        "\n",
        "plt.xlabel('Epoch number')\n",
        "plt.ylabel('Accuracy scale')\n",
        "plt.title(\"Accuracy Plot\")\n",
        "\n",
        "plt.ylim([0, 1])\n",
        "plt.legend(loc='lower right')\n",
        "plt.grid()\n",
        "plt.show()"
      ],
      "metadata": {
        "colab": {
          "base_uri": "https://localhost:8080/",
          "height": 295
        },
        "id": "JVi7dk-RDD3b",
        "outputId": "06469472-db17-4053-bf05-f3503b59a64a"
      },
      "execution_count": 33,
      "outputs": [
        {
          "output_type": "display_data",
          "data": {
            "text/plain": [
              "<Figure size 1152x288 with 1 Axes>"
            ],
            "image/png": "[encoded data removed]"
          },
          "metadata": {
            "needs_background": "light"
          }
        }
      ]
    },
    {
      "cell_type": "markdown",
      "source": [
        "For plotting Learning errors and training data errors."
      ],
      "metadata": {
        "id": "oCrs5dVEDjhz"
      }
    },
    {
      "cell_type": "code",
      "source": [
        "plt.plot(allHistoryData.history['loss'], label='learning errors', marker = '*')\n",
        "plt.plot(allHistoryData.history['val_loss'], label = 'training errors', marker = 'o')\n",
        "plt.xlabel('Epoch')\n",
        "plt.ylabel('Errors')\n",
        "plt.title(\"Errors Plot\")\n",
        "\n",
        "plt.ylim([0, 2])\n",
        "plt.legend(loc='upper right')\n",
        "plt.grid()\n",
        "plt.show()"
      ],
      "metadata": {
        "colab": {
          "base_uri": "https://localhost:8080/",
          "height": 295
        },
        "id": "tX9RNa1yDip0",
        "outputId": "f6f837a2-f591-4ae5-b235-3ad5cf15fe95"
      },
      "execution_count": 34,
      "outputs": [
        {
          "output_type": "display_data",
          "data": {
            "text/plain": [
              "<Figure size 1152x288 with 1 Axes>"
            ],
            "image/png": "[encoded data removed]"
          },
          "metadata": {
            "needs_background": "light"
          }
        }
      ]
    },
    {
      "cell_type": "code",
      "source": [
        "error_testData, accuracy_testData = modelObject.evaluate(test_X,  test_y, verbose=2)"
      ],
      "metadata": {
        "colab": {
          "base_uri": "https://localhost:8080/"
        },
        "id": "TIWuNRk_ITMf",
        "outputId": "c93d6a30-a9a6-4941-ae79-35fbbc21165d"
      },
      "execution_count": 35,
      "outputs": [
        {
          "output_type": "stream",
          "name": "stdout",
          "text": [
            "814/814 - 86s - loss: 0.4064 - accuracy: 0.8810 - 86s/epoch - 105ms/step\n"
          ]
        }
      ]
    }
  ]
}